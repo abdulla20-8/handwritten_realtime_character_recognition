{
  "cells": [
    {
      "cell_type": "code",
      "execution_count": 1,
      "metadata": {
        "id": "_rUTmC8HpkOU"
      },
      "outputs": [],
      "source": [
        "# https://colab.research.google.com/drive/1CpV4osCtZdmtnDStA4qrYjIAlWnTjtVK?usp=sharing"
      ]
    },
    {
      "cell_type": "code",
      "execution_count": 2,
      "metadata": {
        "id": "HcT3ANdtXmjk"
      },
      "outputs": [],
      "source": [
        "import pandas as pd\n",
        "import numpy as np\n",
        "import matplotlib.pyplot as plt\n",
        "import matplotlib.image as mpimg\n",
        "import seaborn as sns\n",
        "%matplotlib inline\n",
        "\n",
        "np.random.seed(2)\n",
        "\n",
        "from sklearn.model_selection import train_test_split\n",
        "from sklearn.metrics import confusion_matrix\n",
        "import itertools\n",
        "\n",
        "from keras.utils.np_utils import to_categorical # convert to one-hot-encoding\n",
        "from keras.models import Sequential\n",
        "from keras.layers import Dense, Dropout, Flatten, Conv2D, MaxPool2D\n",
        "from keras.optimizers import RMSprop\n",
        "from keras.preprocessing.image import ImageDataGenerator\n",
        "from keras.callbacks import ReduceLROnPlateau"
      ]
    },
    {
      "cell_type": "code",
      "execution_count": 3,
      "metadata": {
        "colab": {
          "base_uri": "https://localhost:8080/"
        },
        "id": "GSboKOp-VO7n",
        "outputId": "23bada03-aef5-49fa-e5ee-578013cb31b6"
      },
      "outputs": [
        {
          "output_type": "stream",
          "name": "stdout",
          "text": [
            "Mounted at /content/drive\n"
          ]
        }
      ],
      "source": [
        "from google.colab import drive\n",
        "\n",
        "drive.mount('/content/drive')\n",
        "\n",
        "!cp /content/drive/MyDrive/abdulla/Character/anotation_28x28/Test.csv .\n",
        "!cp /content/drive/MyDrive/abdulla/Character/anotation_28x28/Train.csv .\n",
        "\n",
        "!rm -rf sample_data"
      ]
    },
    {
      "cell_type": "code",
      "execution_count": 4,
      "metadata": {
        "id": "enMBFPZLVRMM"
      },
      "outputs": [],
      "source": [
        "import pandas as pd \n",
        "import seaborn as sns\n",
        "\n",
        "train = pd.read_csv(\"Train.csv\")\n",
        "test = pd.read_csv(\"Test.csv\")"
      ]
    },
    {
      "cell_type": "code",
      "execution_count": 5,
      "metadata": {
        "colab": {
          "base_uri": "https://localhost:8080/",
          "height": 959
        },
        "id": "1pmGo6loWRIe",
        "outputId": "ab4b3093-94be-4112-dbc5-139e383fd1a8"
      },
      "outputs": [
        {
          "output_type": "stream",
          "name": "stderr",
          "text": [
            "/usr/local/lib/python3.8/dist-packages/seaborn/_decorators.py:36: FutureWarning: Pass the following variable as a keyword arg: x. From version 0.12, the only valid positional argument will be `data`, and passing other arguments without an explicit keyword will result in an error or misinterpretation.\n",
            "  warnings.warn(\n"
          ]
        },
        {
          "output_type": "execute_result",
          "data": {
            "text/plain": [
              "0     6000\n",
              "26    5999\n",
              "20    5999\n",
              "21    5999\n",
              "22    5999\n",
              "23    5999\n",
              "24    5999\n",
              "25    5999\n",
              "27    5999\n",
              "18    5999\n",
              "28    5999\n",
              "29    5999\n",
              "30    5999\n",
              "31    5999\n",
              "32    5999\n",
              "33    5999\n",
              "19    5999\n",
              "17    5999\n",
              "1     5999\n",
              "8     5999\n",
              "2     5999\n",
              "3     5999\n",
              "4     5999\n",
              "5     5999\n",
              "6     5999\n",
              "7     5999\n",
              "9     5999\n",
              "16    5999\n",
              "10    5999\n",
              "11    5999\n",
              "12    5999\n",
              "13    5999\n",
              "14    5999\n",
              "15    5999\n",
              "34    5999\n",
              "Name: label, dtype: int64"
            ]
          },
          "metadata": {},
          "execution_count": 5
        },
        {
          "output_type": "display_data",
          "data": {
            "text/plain": [
              "<Figure size 432x288 with 1 Axes>"
            ],
            "image/png": "[encoded data removed]"
          },
          "metadata": {
            "needs_background": "light"
          }
        }
      ],
      "source": [
        "Y_train = train[\"label\"]\n",
        "\n",
        "# Drop 'label' column\n",
        "X_train = train.drop(labels = [\"label\"],axis = 1) \n",
        "\n",
        "# free some space\n",
        "del train \n",
        "\n",
        "g = sns.countplot(Y_train)\n",
        "\n",
        "Y_train.value_counts()"
      ]
    },
    {
      "cell_type": "code",
      "execution_count": 6,
      "metadata": {
        "colab": {
          "base_uri": "https://localhost:8080/"
        },
        "id": "6Xj_yM6YWOUM",
        "outputId": "c2fcd6fa-2fa1-4b4c-ebd4-ef36153e7b97"
      },
      "outputs": [
        {
          "output_type": "execute_result",
          "data": {
            "text/plain": [
              "count       784\n",
              "unique        1\n",
              "top       False\n",
              "freq        784\n",
              "dtype: object"
            ]
          },
          "metadata": {},
          "execution_count": 6
        }
      ],
      "source": [
        "# Check the data\n",
        "X_train.isnull().any().describe()"
      ]
    },
    {
      "cell_type": "code",
      "execution_count": 7,
      "metadata": {
        "colab": {
          "base_uri": "https://localhost:8080/"
        },
        "id": "sliD4w8nWM0P",
        "outputId": "7b7d1a42-4ee9-4410-fbb7-67cd56d9c1af"
      },
      "outputs": [
        {
          "output_type": "execute_result",
          "data": {
            "text/plain": [
              "count       784\n",
              "unique        1\n",
              "top       False\n",
              "freq        784\n",
              "dtype: object"
            ]
          },
          "metadata": {},
          "execution_count": 7
        }
      ],
      "source": [
        "test.isnull().any().describe()"
      ]
    },
    {
      "cell_type": "code",
      "execution_count": 8,
      "metadata": {
        "id": "XUcDWzR8WLM9"
      },
      "outputs": [],
      "source": [
        "# Normalize the data\n",
        "X_train = X_train / 255.0\n",
        "test = test / 255.0"
      ]
    },
    {
      "cell_type": "code",
      "execution_count": 9,
      "metadata": {
        "id": "CDME31IbWJhk"
      },
      "outputs": [],
      "source": [
        "# Reshape image in 3 dimensions (height = 28px, width = 28px , canal = 1)\n",
        "X_train = X_train.values.reshape(-1,28,28,1)\n",
        "test = test.values.reshape(-1,28,28,1)"
      ]
    },
    {
      "cell_type": "code",
      "execution_count": 14,
      "metadata": {
        "id": "LQiqgLHoWIoG"
      },
      "outputs": [],
      "source": [
        "from keras.utils import to_categorical\n",
        "\n",
        "# Encode labels to one hot vectors (ex : 2 -> [0,0,1,0,0,0,0,0,0,0])\n",
        "Y_train = to_categorical(Y_train, num_classes = 35)"
      ]
    },
    {
      "cell_type": "code",
      "execution_count": 15,
      "metadata": {
        "id": "VRDDgdpQWD8f"
      },
      "outputs": [],
      "source": [
        "from sklearn.model_selection import train_test_split\n",
        "\n",
        "# Split the train and the validation set for the fitting\n",
        "X_train, X_val, Y_train, Y_val = train_test_split(X_train, Y_train, test_size = 0.1)"
      ]
    },
    {
      "cell_type": "code",
      "execution_count": 16,
      "metadata": {
        "id": "nGY-GLhYVbYP"
      },
      "outputs": [],
      "source": [
        "from keras.utils import to_categorical\n",
        "\n",
        "y_train = to_categorical(Y_train, num_classes = 35, dtype = 'float32')\n",
        "y_test = to_categorical(Y_val, num_classes = 35, dtype = 'float32')"
      ]
    },
    {
      "cell_type": "code",
      "execution_count": 17,
      "metadata": {
        "colab": {
          "base_uri": "https://localhost:8080/"
        },
        "id": "4M6qt1zIVfLL",
        "outputId": "0ff5291a-0f69-4ffc-83ab-0ae5bd105bbb"
      },
      "outputs": [
        {
          "output_type": "execute_result",
          "data": {
            "text/plain": [
              "(170072, 35, 35)"
            ]
          },
          "metadata": {},
          "execution_count": 17
        }
      ],
      "source": [
        "y_train.shape"
      ]
    },
    {
      "cell_type": "code",
      "execution_count": 18,
      "metadata": {
        "id": "b-SXYqjmVgd5"
      },
      "outputs": [],
      "source": [
        "# # # Reshaping the array to include the RGB value. Here RGB value is 1 since it is a b&w image\n",
        "\n",
        "# x_train = X_train.values.reshape(-1,28,28,1)\n",
        "# x_test = X_val.values.reshape(-1,28,28,1)"
      ]
    },
    {
      "cell_type": "code",
      "execution_count": 19,
      "metadata": {
        "id": "caVVu9RgVh5-"
      },
      "outputs": [],
      "source": [
        "# Converting the arrays to float so that we can get decimal points after division\n",
        "x_train = X_train.astype('float32')\n",
        "x_test = X_val.astype('float32')"
      ]
    },
    {
      "cell_type": "code",
      "execution_count": 20,
      "metadata": {
        "id": "WVRBSoPZV0XP"
      },
      "outputs": [],
      "source": [
        "# Normalizing the RGB codes by dividing it to the maximum RGB value.\n",
        "x_train /= 255\n",
        "x_test /= 255"
      ]
    },
    {
      "cell_type": "code",
      "execution_count": 21,
      "metadata": {
        "colab": {
          "base_uri": "https://localhost:8080/"
        },
        "id": "L_NjSAOXV18y",
        "outputId": "a89f8955-1979-491b-de04-0b37cda3d753"
      },
      "outputs": [
        {
          "output_type": "stream",
          "name": "stdout",
          "text": [
            "x_train shape: (170072, 28, 28, 1)\n",
            "y_train shape: (170072, 35, 35)\n",
            "Number of images in x_train 170072\n",
            "Number of images in x_test 18897\n"
          ]
        }
      ],
      "source": [
        "#Checking the shapes of x_train and y_train \n",
        "print('x_train shape:', x_train.shape)\n",
        "print('y_train shape:', y_train.shape)\n",
        "print('Number of images in x_train', x_train.shape[0])\n",
        "print('Number of images in x_test', x_test.shape[0])"
      ]
    },
    {
      "cell_type": "code",
      "execution_count": 22,
      "metadata": {
        "id": "lUGM8CYEV32s"
      },
      "outputs": [],
      "source": [
        "#Initializing the input shape\n",
        "input_shape = (28, 28, 1)"
      ]
    },
    {
      "cell_type": "code",
      "execution_count": 24,
      "metadata": {
        "colab": {
          "base_uri": "https://localhost:8080/"
        },
        "id": "HU0hRCWXUWb-",
        "outputId": "6681b951-95a0-4c46-8bca-915f8bf9345d"
      },
      "outputs": [
        {
          "output_type": "stream",
          "name": "stdout",
          "text": [
            "Epoch 1/30\n",
            "5315/5315 [==============================] - 35s 5ms/step - loss: 0.4619 - accuracy: 0.8517\n",
            "Epoch 2/30\n",
            "5315/5315 [==============================] - 24s 4ms/step - loss: 0.2044 - accuracy: 0.9346\n",
            "Epoch 3/30\n",
            "5315/5315 [==============================] - 25s 5ms/step - loss: 0.1578 - accuracy: 0.9497\n",
            "Epoch 4/30\n",
            "5315/5315 [==============================] - 25s 5ms/step - loss: 0.1356 - accuracy: 0.9578\n",
            "Epoch 5/30\n",
            "5315/5315 [==============================] - 25s 5ms/step - loss: 0.1189 - accuracy: 0.9633\n",
            "Epoch 6/30\n",
            "5315/5315 [==============================] - 25s 5ms/step - loss: 0.1115 - accuracy: 0.9665\n",
            "Epoch 7/30\n",
            "5315/5315 [==============================] - 25s 5ms/step - loss: 0.1090 - accuracy: 0.9686\n",
            "Epoch 8/30\n",
            "5315/5315 [==============================] - 24s 5ms/step - loss: 0.1064 - accuracy: 0.9708\n",
            "Epoch 9/30\n",
            "5315/5315 [==============================] - 24s 5ms/step - loss: 0.1042 - accuracy: 0.9724\n",
            "Epoch 10/30\n",
            "5315/5315 [==============================] - 25s 5ms/step - loss: 0.1085 - accuracy: 0.9734\n",
            "Epoch 11/30\n",
            "5315/5315 [==============================] - 24s 5ms/step - loss: 0.1013 - accuracy: 0.9754\n",
            "Epoch 12/30\n",
            "5315/5315 [==============================] - 24s 5ms/step - loss: 0.1059 - accuracy: 0.9760\n",
            "Epoch 13/30\n",
            "5315/5315 [==============================] - 24s 4ms/step - loss: 0.1048 - accuracy: 0.9770\n",
            "Epoch 14/30\n",
            "5315/5315 [==============================] - 24s 5ms/step - loss: 0.1105 - accuracy: 0.9773\n",
            "Epoch 15/30\n",
            "5315/5315 [==============================] - 24s 5ms/step - loss: 0.1086 - accuracy: 0.9783\n",
            "Epoch 16/30\n",
            "5315/5315 [==============================] - 24s 5ms/step - loss: 0.1107 - accuracy: 0.9785\n",
            "Epoch 17/30\n",
            "5315/5315 [==============================] - 24s 5ms/step - loss: 0.1130 - accuracy: 0.9791\n",
            "Epoch 18/30\n",
            "5315/5315 [==============================] - 24s 5ms/step - loss: 0.1181 - accuracy: 0.9799\n",
            "Epoch 19/30\n",
            "5315/5315 [==============================] - 24s 5ms/step - loss: 0.1206 - accuracy: 0.9800\n",
            "Epoch 20/30\n",
            "5315/5315 [==============================] - 24s 5ms/step - loss: 0.1219 - accuracy: 0.9813\n",
            "Epoch 21/30\n",
            "5315/5315 [==============================] - 24s 5ms/step - loss: 0.1205 - accuracy: 0.9814\n",
            "Epoch 22/30\n",
            "5315/5315 [==============================] - 24s 4ms/step - loss: 0.1270 - accuracy: 0.9818\n",
            "Epoch 23/30\n",
            "5315/5315 [==============================] - 24s 5ms/step - loss: 0.1319 - accuracy: 0.9819\n",
            "Epoch 24/30\n",
            "5315/5315 [==============================] - 24s 5ms/step - loss: 0.1313 - accuracy: 0.9828\n",
            "Epoch 25/30\n",
            "5315/5315 [==============================] - 24s 5ms/step - loss: 0.1327 - accuracy: 0.9832\n",
            "Epoch 26/30\n",
            "5315/5315 [==============================] - 24s 5ms/step - loss: 0.1456 - accuracy: 0.9829\n",
            "Epoch 27/30\n",
            "5315/5315 [==============================] - 24s 4ms/step - loss: 0.1409 - accuracy: 0.9842\n",
            "Epoch 28/30\n",
            "5315/5315 [==============================] - 24s 5ms/step - loss: 0.1479 - accuracy: 0.9843\n",
            "Epoch 29/30\n",
            "5315/5315 [==============================] - 25s 5ms/step - loss: 0.1428 - accuracy: 0.9847\n",
            "Epoch 30/30\n",
            "5315/5315 [==============================] - 24s 5ms/step - loss: 0.1545 - accuracy: 0.9853\n",
            "591/591 [==============================] - 2s 3ms/step - loss: 0.9125 - accuracy: 0.9543\n",
            "5315/5315 [==============================] - 18s 3ms/step - loss: 0.0560 - accuracy: 0.9925\n"
          ]
        },
        {
          "output_type": "execute_result",
          "data": {
            "text/plain": [
              "[0.05595627427101135, 0.9924561381340027]"
            ]
          },
          "metadata": {},
          "execution_count": 24
        }
      ],
      "source": [
        "import tensorflow as tf\n",
        "from tensorflow import keras\n",
        "\n",
        "# load the data\n",
        "X_train, X_val, Y_train, Y_val\n",
        "\n",
        "# (train_img,train_label),(test_img,test_label) = keras.datasets.mnist.load_data()\n",
        "# train_img = train_img.reshape([-1, 28, 28, 1])\n",
        "# test_img = test_img.reshape([-1, 28, 28, 1])\n",
        "# train_img = train_img/255.0\n",
        "# test_img = test_img/255.0\n",
        "# train_label = keras.utils.to_categorical(train_label)\n",
        "# test_label = keras.utils.to_categorical(test_label)\n",
        "\n",
        "# define the model architecture\n",
        "model = keras.Sequential([\n",
        "    keras.layers.Conv2D(32, (5, 5), padding=\"same\", input_shape=[28, 28, 1]),\n",
        "    keras.layers.MaxPool2D((2,2)),\n",
        "    keras.layers.Conv2D(64, (5, 5), padding=\"same\"),\n",
        "    keras.layers.MaxPool2D((2,2)),\n",
        "    keras.layers.Flatten(),\n",
        "    keras.layers.Dense(1024, activation='relu'),\n",
        "    keras.layers.Dropout(0.2),\n",
        "    keras.layers.Dense(35, activation='softmax')\n",
        "])\n",
        "model.compile(optimizer='adam', loss='categorical_crossentropy', metrics=['accuracy'])\n",
        "\n",
        "# train the model\n",
        "model.fit(x=X_train,y=Y_train, epochs=30)\n",
        "model.evaluate(X_val, Y_val)\n",
        "model.evaluate(X_train, Y_train)"
      ]
    },
    {
      "cell_type": "code",
      "execution_count": 25,
      "metadata": {
        "id": "lDmeKhy1UzMQ"
      },
      "outputs": [],
      "source": [
        "model.save(\"model.h5\")"
      ]
    },
    {
      "cell_type": "code",
      "execution_count": null,
      "metadata": {
        "id": "R8Ncx-PcZE56"
      },
      "outputs": [],
      "source": [
        "!cp -r /content/drive/MyDrive/abdulla/Number/ ."
      ]
    }
  ],
  "metadata": {
    "accelerator": "GPU",
    "colab": {
      "provenance": []
    },
    "gpuClass": "standard",
    "kernelspec": {
      "display_name": "Python 3 (ipykernel)",
      "language": "python",
      "name": "python3"
    },
    "language_info": {
      "codemirror_mode": {
        "name": "ipython",
        "version": 3
      },
      "file_extension": ".py",
      "mimetype": "text/x-python",
      "name": "python",
      "nbconvert_exporter": "python",
      "pygments_lexer": "ipython3",
      "version": "3.10.6"
    }
  },
  "nbformat": 4,
  "nbformat_minor": 0
}